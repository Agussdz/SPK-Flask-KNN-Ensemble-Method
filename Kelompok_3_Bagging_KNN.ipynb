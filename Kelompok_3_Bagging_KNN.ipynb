{
  "cells": [
    {
      "cell_type": "markdown",
      "metadata": {
        "id": "0IQxWXcNi2-v"
      },
      "source": [
        "#**Sistem Pendukung Keputusan Kredit Menggunakan Algoritma KNN**"
      ]
    },
    {
      "cell_type": "markdown",
      "metadata": {
        "id": "Youd9kE3i6-c"
      },
      "source": [
        "#**Kelompok 03:**\n",
        "- MUhammad Veka Syahputra (4612422022)\n",
        "- ZAMACHSYAFI SHIDQI ATHALLAH (4612422025)\n",
        "- Fauzan Dwi Eryawan (4612422037)\n",
        "- MOCHAMAD RIZQI RAHCMAN (4612422038)\n",
        "- Agus Sutiyanto (4612422052)\n"
      ]
    },
    {
      "cell_type": "markdown",
      "metadata": {
        "id": "wB2fIIMKi-jI"
      },
      "source": [
        "##**KNN (K-Nearest Neighbors) & Ensemble Bagging**"
      ]
    },
    {
      "cell_type": "code",
      "execution_count": 5,
      "metadata": {
        "colab": {
          "base_uri": "https://localhost:8080/"
        },
        "id": "pt1fKH5anf49",
        "outputId": "e9d0bc8d-6206-415d-a689-2f23894e22d5"
      },
      "outputs": [
        {
          "name": "stdout",
          "output_type": "stream",
          "text": [
            "Masukkan nilai untuk K1: 5\n",
            "Masukkan nilai untuk K2: 3\n",
            "Masukkan nilai untuk K3: 4\n",
            "Masukkan nilai untuk K4: 3\n",
            "Masukkan nilai untuk K5: 4\n",
            "Probabilitas diterima: 88.89%\n",
            "Memenuhi Kelayakan\n",
            "\n",
            "Hasil Kedekatan 9 Tetangga Terdekat (Diurutkan Berdasarkan Jarak):\n",
            "   K1  K2  K3  K4  K5  Hasil     Jarak\n",
            "0   5   3   4   3   4      1  0.000000\n",
            "1   5   2   4   3   4      1  0.447214\n",
            "2   5   3   4   2   4      0  0.447214\n",
            "3   5   3   4   4   4      1  0.447214\n",
            "4   5   4   4   3   4      1  0.447214\n",
            "5   5   3   3   3   4      1  0.500000\n",
            "6   5   3   4   3   3      1  0.500000\n",
            "7   5   3   4   3   5      1  0.500000\n",
            "8   5   3   5   3   4      1  0.500000\n",
            "\n",
            "Akurasi 0.9968051118210862\n",
            "\n",
            "Confusion matrix:\n",
            " [[233   0]\n",
            " [  1  79]]\n"
          ]
        }
      ],
      "source": [
        "import numpy as np\n",
        "import pandas as pd\n",
        "from sklearn.metrics import accuracy_score, confusion_matrix\n",
        "from sklearn.neighbors import KNeighborsClassifier\n",
        "\n",
        "# Bobot untuk setiap opsi kriteria\n",
        "bobot_k1 = np.array([0.10, 0.15, 0.20, 0.25, 0.30])\n",
        "bobot_k2 = np.array([0.10, 0.15, 0.20, 0.25, 0.30])\n",
        "bobot_k3 = np.array([0.10, 0.15, 0.20, 0.25, 0.30])\n",
        "bobot_k4 = np.array([0.10, 0.15, 0.20, 0.25, 0.30])\n",
        "bobot_k5 = np.array([0.10, 0.15, 0.20, 0.25, 0.30])\n",
        "\n",
        "dataset_train = pd.read_excel('data_training.xlsx')\n",
        "dataset_test = pd.read_excel('data_testing.xlsx')\n",
        "\n",
        "# Input data dari pengguna\n",
        "input_user = []\n",
        "for i in range(5):\n",
        "    input_user.append(int(input(\"Masukkan nilai untuk K{}: \".format(i+1))))\n",
        "\n",
        "\n",
        "jarak_list = []\n",
        "hasil_list = []  \n",
        "for index, row in dataset_train.iterrows():\n",
        "    data_train = row[:-1].values  \n",
        "    hasil_list.append(row['Hasil']) \n",
        "    jarak = np.sqrt(\n",
        "        np.sum([\n",
        "            bobot_k1[input_user[0]-1] * ((input_user[0] - data_train[0]) ** 2),\n",
        "            bobot_k2[input_user[1]-1] * ((input_user[1] - data_train[1]) ** 2),\n",
        "            bobot_k3[input_user[2]-1] * ((input_user[2] - data_train[2]) ** 2),\n",
        "            bobot_k4[input_user[3]-1] * ((input_user[3] - data_train[3]) ** 2),\n",
        "            bobot_k5[input_user[4]-1] * ((input_user[4] - data_train[4]) ** 2)\n",
        "        ])\n",
        "    )\n",
        "    jarak_list.append((index, jarak))\n",
        "\n",
        "# Mengurutkan berdasarkan jarak\n",
        "jarak_list_sorted = sorted(jarak_list, key=lambda x: x[1])\n",
        "\n",
        "# 9 tetangga terdekat\n",
        "neighbors = jarak_list_sorted[:9]\n",
        "\n",
        "nearest_neighbors_data = []\n",
        "for index, jarak in neighbors:\n",
        "    nearest_neighbors_data.append({\n",
        "        'K1': dataset_train.iloc[index]['K1'],\n",
        "        'K2': dataset_train.iloc[index]['K2'],\n",
        "        'K3': dataset_train.iloc[index]['K3'],\n",
        "        'K4': dataset_train.iloc[index]['K4'],\n",
        "        'K5': dataset_train.iloc[index]['K5'],\n",
        "        'Hasil': dataset_train.iloc[index]['Hasil'],\n",
        "        'Jarak': jarak\n",
        "    })\n",
        "nearest_neighbors = pd.DataFrame(nearest_neighbors_data)\n",
        "acceptance_prob = nearest_neighbors['Hasil'].mean() * 100\n",
        "\n",
        "# Menampilkan hasil\n",
        "print(\"Probabilitas diterima: {:.2f}%\".format(acceptance_prob))\n",
        "\n",
        "if acceptance_prob > 50:\n",
        "    print(\"Memenuhi Kelayakan\")\n",
        "else :\n",
        "    print(\"Tidak Memenuhi\")\n",
        "\n",
        "print(\"\\nHasil Kedekatan 9 Tetangga Terdekat (Diurutkan Berdasarkan Jarak):\")\n",
        "print(nearest_neighbors)\n",
        "\n",
        "\n",
        "X_train = dataset_train.iloc[:, :-1]\n",
        "y_train = dataset_train.iloc[:, -1]\n",
        "\n",
        "# Bagging\n",
        "from sklearn.ensemble import BaggingClassifier\n",
        "bagging_classifier = BaggingClassifier(estimator=KNeighborsClassifier(n_neighbors=9), n_estimators=10, random_state=42)\n",
        "\n",
        "bagging_classifier.fit(X_train, y_train)\n",
        "\n",
        "X_test = dataset_test.iloc[:, :-1]\n",
        "y_test = dataset_test.iloc[:, -1]\n",
        "\n",
        "predictions = bagging_classifier.predict(X_test)\n",
        "\n",
        "# akurasi\n",
        "accuracy = accuracy_score(y_test, predictions)\n",
        "print(\"\\nAkurasi\", accuracy)\n",
        "\n",
        "# confusion matrix\n",
        "conf_matrix = confusion_matrix(y_test, predictions)\n",
        "print(\"\\nConfusion matrix:\\n\", conf_matrix)"
      ]
    }
  ],
  "metadata": {
    "colab": {
      "provenance": []
    },
    "kernelspec": {
      "display_name": "Python 3",
      "name": "python3"
    },
    "language_info": {
      "name": "python"
    }
  },
  "nbformat": 4,
  "nbformat_minor": 0
}
