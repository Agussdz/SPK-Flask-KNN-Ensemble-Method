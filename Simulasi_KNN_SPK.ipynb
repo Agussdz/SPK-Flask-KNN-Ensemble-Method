{
  "cells": [
    {
      "cell_type": "markdown",
      "metadata": {
        "id": "Eprk27_XQygn"
      },
      "source": [
        "#**Sistem Pendukung Keputusan Kredit Mobil menggunakan Algoritma KNN**"
      ]
    },
    {
      "cell_type": "markdown",
      "source": [
        "#**Kelompok 03:**\n",
        "- MUhammad Veka Syahputra (4612422022)\n",
        "- ZAMACHSYAFI SHIDQI ATHALLAH (4612422025)\n",
        "- Fauzan Dwi Eryawan (4612422037)\n",
        "- MOCHAMAD RIZQI RAHCMAN (4612422038)\n",
        "- Agus Sutiyanto (4612422052)\n"
      ],
      "metadata": {
        "id": "3sj1XAofdx7N"
      }
    },
    {
      "cell_type": "markdown",
      "source": [
        "##**KNN (K-Nearest Neighbors)**"
      ],
      "metadata": {
        "id": "z6CGeZhTA4ZH"
      }
    },
    {
      "cell_type": "code",
      "source": [
        "import numpy as np\n",
        "import matplotlib.pyplot as plt\n",
        "import pandas as pd\n",
        "from sklearn.model_selection import train_test_split\n",
        "from sklearn.preprocessing import StandardScaler\n",
        "from sklearn.neighbors import KNeighborsClassifier\n",
        "from sklearn.metrics import confusion_matrix, classification_report, accuracy_score\n",
        "\n",
        "# Membaca file Excel\n",
        "df = pd.read_excel('Data_train.xlsx')\n",
        "print(df.head())\n",
        "\n",
        "# Memilih kolom fitur (K1-K5) dan kolom label (Hasil)\n",
        "x = df[['K1', 'K2', 'K3', 'K4', 'K5']]\n",
        "y = df['Hasil']\n",
        "\n",
        "# Membagi Dataset ke Data Training dan Data Testing\n",
        "x_train, x_test, y_train, y_test = train_test_split(x, y, test_size=0.25, random_state=31)\n",
        "\n",
        "# Scaling Data\n",
        "sc = StandardScaler()\n",
        "x_train = sc.fit_transform(x_train)\n",
        "x_test = sc.transform(x_test)\n",
        "\n",
        "# Memanggil Function KNN\n",
        "classifier = KNeighborsClassifier(n_neighbors=7, metric='euclidean')\n",
        "classifier.fit(x_train, y_train)\n",
        "\n",
        "# Menentukan Prediksi\n",
        "y_pred = classifier.predict(x_test)\n",
        "\n",
        "# Evaluasi dan Validasi\n",
        "cm = confusion_matrix(y_test, y_pred)\n",
        "print(cm)\n",
        "\n",
        "akurasi = classification_report(y_test, y_pred)\n",
        "print(akurasi)\n",
        "\n",
        "akurasi = accuracy_score(y_test, y_pred)\n",
        "print(\"Tingkat Akurasi :%d persen\" % (akurasi * 100))"
      ],
      "metadata": {
        "colab": {
          "base_uri": "https://localhost:8080/"
        },
        "id": "e6eC3O174Y07",
        "outputId": "0f1ca3bd-ca51-41b4-ae82-b307320c8dec"
      },
      "execution_count": null,
      "outputs": [
        {
          "output_type": "stream",
          "name": "stdout",
          "text": [
            "   K1  K2  K3  K4  K5  Hasil\n",
            "0   5   4   4   4   2      0\n",
            "1   4   5   5   4   1      0\n",
            "2   1   1   5   2   1      0\n",
            "3   2   5   4   1   2      0\n",
            "4   5   1   4   3   4      1\n",
            "[[24  1]\n",
            " [ 2 23]]\n",
            "              precision    recall  f1-score   support\n",
            "\n",
            "           0       0.92      0.96      0.94        25\n",
            "           1       0.96      0.92      0.94        25\n",
            "\n",
            "    accuracy                           0.94        50\n",
            "   macro avg       0.94      0.94      0.94        50\n",
            "weighted avg       0.94      0.94      0.94        50\n",
            "\n",
            "Tingkat Akurasi :94 persen\n"
          ]
        }
      ]
    },
    {
      "cell_type": "markdown",
      "source": [
        "##**(KNN)** Simulasi Inputan Pengguna"
      ],
      "metadata": {
        "id": "oawUSRXiR5K6"
      }
    },
    {
      "cell_type": "code",
      "source": [
        "1# Meminta pengguna untuk memasukkan nilai kriteria 1-5\n",
        "kriteria = []\n",
        "for i in range(5):\n",
        "    nilai = int(input(f\"Masukkan nilai K{i+1} (1-5): \"))\n",
        "    kriteria.append(nilai)\n",
        "\n",
        "# Mengubah input pengguna menjadi array numpy dan melakukan scaling\n",
        "input_user = sc.transform([kriteria])\n",
        "\n",
        "# Melakukan prediksi\n",
        "prediksi = classifier.predict(input_user)\n",
        "\n",
        "# Mendapatkan probabilitas prediksi\n",
        "probabilitas = classifier.predict_proba(input_user)[0]\n",
        "\n",
        "# Mencetak hasil prediksi\n",
        "if prediksi[0] == 1:\n",
        "    hasil_prediksi = \"Diterima\"\n",
        "else:\n",
        "    hasil_prediksi = \"Ditolak\"\n",
        "\n",
        "print(\"Hasil Prediksi:\", hasil_prediksi)\n",
        "print(\"Probabilitas Diterima:\", probabilitas[1]*100, \"%\")\n",
        "# Mencetak hasil akurasi\n",
        "print(\"Tingkat Akurasi: {:.2f} persen\".format(akurasi * 100))\n"
      ],
      "metadata": {
        "colab": {
          "base_uri": "https://localhost:8080/"
        },
        "id": "1mrZ6FQaDSVf",
        "outputId": "e5685e8d-2068-4f58-aaca-497f167ebce9"
      },
      "execution_count": null,
      "outputs": [
        {
          "output_type": "stream",
          "name": "stdout",
          "text": [
            "Masukkan nilai K1 (1-5): 5\n",
            "Masukkan nilai K2 (1-5): 5\n",
            "Masukkan nilai K3 (1-5): 5\n",
            "Masukkan nilai K4 (1-5): 5\n",
            "Masukkan nilai K5 (1-5): 5\n",
            "Hasil Prediksi: Diterima\n",
            "Probabilitas Diterima: 100.0 %\n",
            "Tingkat Akurasi: 94.00 persen\n"
          ]
        },
        {
          "output_type": "stream",
          "name": "stderr",
          "text": [
            "/usr/local/lib/python3.10/dist-packages/sklearn/base.py:439: UserWarning: X does not have valid feature names, but StandardScaler was fitted with feature names\n",
            "  warnings.warn(\n"
          ]
        }
      ]
    },
    {
      "cell_type": "markdown",
      "source": [
        "##**KNN Ensemble Method (Bagging)**"
      ],
      "metadata": {
        "id": "GVNToL9ygza3"
      }
    },
    {
      "cell_type": "code",
      "source": [
        "import numpy as np\n",
        "import pandas as pd\n",
        "from sklearn.model_selection import train_test_split\n",
        "from sklearn.preprocessing import StandardScaler\n",
        "from sklearn.ensemble import BaggingClassifier\n",
        "from sklearn.neighbors import KNeighborsClassifier\n",
        "from sklearn.metrics import confusion_matrix, classification_report, accuracy_score\n",
        "\n",
        "# Membaca file Excel\n",
        "df = pd.read_excel('Data_train.xlsx')\n",
        "print(df.head())\n",
        "\n",
        "# Memilih kolom fitur (K1-K5) dan kolom label (Hasil)\n",
        "x = df[['K1', 'K2', 'K3', 'K4', 'K5']]\n",
        "y = df['Hasil']\n",
        "\n",
        "# Membagi Dataset ke Data Training dan Data Testing\n",
        "x_train, x_test, y_train, y_test = train_test_split(x, y, test_size=0.25, random_state=31)\n",
        "\n",
        "# Scaling Data\n",
        "sc = StandardScaler()\n",
        "x_train = sc.fit_transform(x_train)\n",
        "x_test = sc.transform(x_test)\n",
        "\n",
        "from sklearn.neighbors import DistanceMetric\n",
        "weights = np.array([0.2, 0.3, 0.5, 0.1, 0.2])  # Contoh bobot, sesuaikan sesuai kebutuhan\n",
        "\n",
        "def weighted_euclidean_distance(x, y):\n",
        "    return np.sqrt(np.sum(weights * (x - y) ** 2))\n",
        "\n",
        "base_estimator = KNeighborsClassifier(n_neighbors=7, metric=weighted_euclidean_distance)\n",
        "classifier = BaggingClassifier(base_estimator=base_estimator, n_estimators=10, random_state=42)\n",
        "classifier.fit(x_train, y_train)\n",
        "\n",
        "classifier.fit(x_train, y_train)\n",
        "\n",
        "# Menentukan Prediksi\n",
        "y_pred = classifier.predict(x_test)\n",
        "\n",
        "akurasi = accuracy_score(y_test, y_pred)\n",
        "print(\"Tingkat Akurasi : %d persen\" % (akurasi * 100))\n",
        "\n",
        "# Meminta pengguna untuk memasukkan nilai kriteria 1-5\n",
        "kriteria = []\n",
        "for i in range(5):\n",
        "    nilai = int(input(f\"Masukkan nilai K{i+1} (1-5): \"))\n",
        "    kriteria.append(nilai)\n",
        "\n",
        "# Mengubah input pengguna menjadi array numpy dan melakukan scaling\n",
        "input_user = sc.transform([kriteria])\n",
        "\n",
        "# Melakukan prediksi\n",
        "prediksi = classifier.predict(input_user)\n",
        "\n",
        "# Mendapatkan probabilitas prediksi\n",
        "probabilitas = classifier.predict_proba(input_user)[0]\n",
        "\n",
        "# Mencetak hasil prediksi\n",
        "if prediksi[0] == 1:\n",
        "    hasil_prediksi = \"Diterima\"\n",
        "else:\n",
        "    hasil_prediksi = \"Ditolak\"\n",
        "\n",
        "print(\"Hasil Prediksi:\", hasil_prediksi)\n",
        "print(\"Probabilitas Diterima:\", probabilitas[1]*100, \"%\")\n",
        "# Mencetak hasil akurasi\n",
        "print(\"Tingkat Akurasi: {:.2f} persen\".format(akurasi * 100))\n"
      ],
      "metadata": {
        "colab": {
          "base_uri": "https://localhost:8080/"
        },
        "id": "7SuMwOrTFTQN",
        "outputId": "68c02c7c-06b3-4bf5-90c1-30d5d447e688"
      },
      "execution_count": null,
      "outputs": [
        {
          "output_type": "stream",
          "name": "stdout",
          "text": [
            "   K1  K2  K3  K4  K5  Hasil\n",
            "0   5   4   4   4   2      0\n",
            "1   4   5   5   4   1      0\n",
            "2   1   1   5   2   1      0\n",
            "3   2   5   4   1   2      0\n",
            "4   5   1   4   3   4      1\n"
          ]
        },
        {
          "output_type": "stream",
          "name": "stderr",
          "text": [
            "/usr/local/lib/python3.10/dist-packages/sklearn/ensemble/_base.py:166: FutureWarning: `base_estimator` was renamed to `estimator` in version 1.2 and will be removed in 1.4.\n",
            "  warnings.warn(\n",
            "/usr/local/lib/python3.10/dist-packages/sklearn/ensemble/_base.py:166: FutureWarning: `base_estimator` was renamed to `estimator` in version 1.2 and will be removed in 1.4.\n",
            "  warnings.warn(\n"
          ]
        },
        {
          "output_type": "stream",
          "name": "stdout",
          "text": [
            "Tingkat Akurasi : 94 persen\n",
            "Masukkan nilai K1 (1-5): 1\n",
            "Masukkan nilai K2 (1-5): 3\n",
            "Masukkan nilai K3 (1-5): 1\n",
            "Masukkan nilai K4 (1-5): 5\n",
            "Masukkan nilai K5 (1-5): 5\n",
            "Hasil Prediksi: Ditolak\n",
            "Probabilitas Diterima: 48.57142857142858 %\n",
            "Tingkat Akurasi: 94.00 persen\n"
          ]
        },
        {
          "output_type": "stream",
          "name": "stderr",
          "text": [
            "/usr/local/lib/python3.10/dist-packages/sklearn/base.py:439: UserWarning: X does not have valid feature names, but StandardScaler was fitted with feature names\n",
            "  warnings.warn(\n"
          ]
        }
      ]
    }
  ],
  "metadata": {
    "kernelspec": {
      "display_name": "Python 3",
      "language": "python",
      "name": "python3"
    },
    "language_info": {
      "codemirror_mode": {
        "name": "ipython",
        "version": 3
      },
      "file_extension": ".py",
      "mimetype": "text/x-python",
      "name": "python",
      "nbconvert_exporter": "python",
      "pygments_lexer": "ipython3",
      "version": "3.8.2"
    },
    "colab": {
      "provenance": []
    }
  },
  "nbformat": 4,
  "nbformat_minor": 0
}